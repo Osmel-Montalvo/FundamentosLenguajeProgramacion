{
  "nbformat": 4,
  "nbformat_minor": 0,
  "metadata": {
    "colab": {
      "provenance": []
    },
    "kernelspec": {
      "name": "python3",
      "display_name": "Python 3"
    },
    "language_info": {
      "name": "python"
    }
  },
  "cells": [
    {
      "cell_type": "markdown",
      "source": [
        "**TALLER DE REFUERZO CICLOS REPETITIVOS**"
      ],
      "metadata": {
        "id": "HwgA92L4aJx6"
      }
    },
    {
      "cell_type": "code",
      "source": [
        "Num = int(input(\"Digite el numero de la tabla: \"))\n",
        "for i in range(11):\n",
        "  print(i, \" X \", Num, \" = \", i * Num)"
      ],
      "metadata": {
        "id": "rV9ZhNiAaSKx"
      },
      "execution_count": null,
      "outputs": []
    },
    {
      "cell_type": "code",
      "source": [
        " resp = \"si\"\n",
        "while resp == \"si\":\n",
        "  Sueldo = int(input(\"Digite el sueldo del trabajador: \"))\n",
        "  Bono = Sueldo + 0.4\n",
        "  Total = Sueldo + Bono\n",
        "  if Sueldo > 655000:\n",
        "    print(f\"No cuenta con bonificacion, sueldo total es = {Sueldo}\")\n",
        "  else:\n",
        "    print(f\"Cuenta con bonificacion del 4% su sueldo total es = {Total}\")\n",
        "  resp = input(\"Desea iniciar de nuevo? \")"
      ],
      "metadata": {
        "id": "znLdf6mCaYpv"
      },
      "execution_count": null,
      "outputs": []
    },
    {
      "cell_type": "code",
      "source": [
        "acu = 0\n",
        "for i in range(0, 101, 2):\n",
        " print(i)"
      ],
      "metadata": {
        "id": "2kiq5mxdzMei"
      },
      "execution_count": null,
      "outputs": []
    },
    {
      "cell_type": "code",
      "source": [
        "Edad = int(input(\"Digite su edad: \"))\n",
        "for Edad in range(1, Edad):\n",
        " print(Edad)"
      ],
      "metadata": {
        "id": "8GDSL8Gk1ocN"
      },
      "execution_count": null,
      "outputs": []
    }
  ]
}